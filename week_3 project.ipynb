{
 "cells": [
  {
   "cell_type": "code",
   "execution_count": 1,
   "id": "668310a6-9986-4a3f-8c42-6c2f4c52d664",
   "metadata": {},
   "outputs": [
    {
     "name": "stdout",
     "output_type": "stream",
     "text": [
      "1. Calculate the roots of a quadratic equation\n",
      "2. Calculate the roots of a cubic equation\n",
      "3. Calculate the roots of a quartic equation\n"
     ]
    },
    {
     "name": "stdin",
     "output_type": "stream",
     "text": [
      "Enter the option you want (1, 2, or 3):  1\n",
      "Enter coefficient a:  3\n",
      "Enter coefficient b:  4\n",
      "Enter coefficient c:  5\n"
     ]
    },
    {
     "name": "stdout",
     "output_type": "stream",
     "text": [
      "The roots of the quadratic equation are complex:  (-0.6666666666666666+1.1055415967851332j) (-0.6666666666666666-1.1055415967851332j)\n",
      "Invalid option selected!\n"
     ]
    },
    {
     "name": "stdin",
     "output_type": "stream",
     "text": [
      "Do you want to perform another calculation? (yes/no):  NO\n"
     ]
    }
   ],
   "source": [
    "import cmath\n",
    "import numpy as np\n",
    "\n",
    "while True:\n",
    "    # Display the menu options\n",
    "    print(\"1. Calculate the roots of a quadratic equation\")\n",
    "    print(\"2. Calculate the roots of a cubic equation\")\n",
    "    print(\"3. Calculate the roots of a quartic equation\")\n",
    "\n",
    "    # User input for the option\n",
    "    option = int(input(\"Enter the option you want (1, 2, or 3): \"))\n",
    "\n",
    "    # User input for coefficients\n",
    "    if option == 1:\n",
    "        a = float(input(\"Enter coefficient a: \"))\n",
    "        b = float(input(\"Enter coefficient b: \"))\n",
    "        c = float(input(\"Enter coefficient c: \"))\n",
    "\n",
    "        # Calculate the discriminant\n",
    "        discriminant = b**2 - 4*a*c\n",
    "\n",
    "        # Calculate the roots\n",
    "        if discriminant > 0:\n",
    "            root1 = (-b + cmath.sqrt(discriminant)) / (2*a)\n",
    "            root2 = (-b - cmath.sqrt(discriminant)) / (2*a)\n",
    "            print(\"The roots of the quadratic equation are: \", root1, root2)\n",
    "        elif discriminant == 0:\n",
    "            root1 = -b / (2*a)\n",
    "            print(\"The quadratic equation has a repeated root: \", root1)\n",
    "        else:\n",
    "            real_part = -b / (2*a)\n",
    "            imaginary_part = cmath.sqrt(abs(discriminant)) / (2*a)\n",
    "            root1 = complex(real_part, imaginary_part)\n",
    "            root2 = complex(real_part, -imaginary_part)\n",
    "            print(\"The roots of the quadratic equation are complex: \", root1, root2)\n",
    "\n",
    "    # User input for coefficients\n",
    "    if option == 2:\n",
    "        a = float(input(\"Enter coefficient a: \"))\n",
    "        b = float(input(\"Enter coefficient b: \"))\n",
    "        c = float(input(\"Enter coefficient c: \"))\n",
    "        d = float(input(\"Enter coefficient d: \"))\n",
    "\n",
    "        # Calculate the discriminant\n",
    "        discriminant = (b**2 - 3*a*c)**2 - 4*(b**3 - 4*a*b*c + a**2*d)**2\n",
    "\n",
    "        # Calculate the roots\n",
    "        if discriminant > 0:\n",
    "            root1 = (-b/3/a + cmath.cube((-b**2 + 3*a*c + cmath.sqrt(discriminant))/(2*(b**3 - 4*a*b*c + a**2*d)))).real\n",
    "            root2 = (-b/3/a + cmath.cube((-b**2 + 3*a*c - cmath.sqrt(discriminant))/(2*(b**3 - 4*a*b*c + a**2*d)))).real\n",
    "            root3 = -b/3/a\n",
    "        elif discriminant == 0:\n",
    "            root1 = (-b/3/a + ((-b**2 + 3*a*c)**(1/3))/cmath.sqrt(a)).real\n",
    "            root2 = root1\n",
    "            root3 = -2*root1\n",
    "        else:\n",
    "            temp1 = -(b**2 - 3*a*c)/(2*(b**3 - 4*a*b*c + a**2*d))\n",
    "            temp2 = cmath.sqrt(-discriminant) ** (1/3)\n",
    "            root1 = temp1 + temp2\n",
    "            root2 = cmath.polar(1)[0]*(cmath.sqrt(3)/2)*temp2 - temp1\n",
    "            root3 = -2*temp1\n",
    "\n",
    "        # Print the roots\n",
    "        print(\"The roots of the cubic equation are: \", root1, root2, root3)\n",
    "\n",
    "    elif option == 3:\n",
    "        a = float(input(\"Enter coefficient a: \"))\n",
    "        b = float(input(\"Enter coefficient b: \"))\n",
    "        c = float(input(\"Enter coefficient c: \"))\n",
    "        d = float(input(\"Enter coefficient d: \"))\n",
    "        e = float(input(\"Enter coefficient e: \"))\n",
    "\n",
    "        # Calculate the discriminant\n",
    "        discriminant = (8*b*c*d - 4*b**2*e - 4*c**3 - 27*a**2*e**2 + 9*a*b*c*e)**2 - 4*(3*b**2*c**2 - b**3*d - c**4 + 4*b*c*d*e - a*c**2*e - 27*a**2*d**2)**3\n",
    "\n",
    "        # Calculate the 6rv6tbghtyvgubnhyugt6thujo\n",
    "        if discriminant > 0:\n",
    "            temp1 = (-b + cmath.sqrt(discriminant))**(1/3)\n",
    "            temp2 = (-b - cmath.sqrt(discriminant))**(1/3)\n",
    "            root1 = (temp1 - temp2 + e/(3*a))*2\n",
    "            temp3 = (-b + cmath.sqrt(1/2)*(1 + cmath.sqrt(3))*cmath.sqrt(discriminant))**(1/3)\n",
    "            temp4 = (-b + cmath.sqrt(1/2)*(1 - cmath.sqrt(3))*cmath.sqrt(discriminant))**(1/3)\n",
    "            root2 = temp3 - temp4 - e/(3*a)\n",
    "            temp5 = (-b - cmath.sqrt(1/2)*(1 + cmath.sqrt(3))*cmath.sqrt(discriminant))**(1/3)\n",
    "            temp6 = (-b + cmath.sqrt(1/2)*(1 + cmath.sqrt(3))*cmath.sqrt(discriminant))**(1/3)\n",
    "            root3 = -1/2 * (temp3 + temp4) - e/(3*a) + 1j*(cmath.sqrt(3)/2) * (temp5 - temp6)\n",
    "        elif discriminant == 0:\n",
    "            root1 = -1/2 * (2*b**3 - 9*a*b*c + 27*a**2*d + cmath.sqrt(4*(b**2 - 3*a*c)**3 + (2*b**3 - 9*a*b*c + 27*a**2*d)**2))**(1/3) - (b**2 - 3*a*c)/(3*a)\n",
    "            root2 = -(b**2 - 3*a*c)/(3*a) - 1/4 * (1 + 3j * cmath.sqrt(3)) * (2*b**3 - 9*a*b*c + 27*a**2*d + cmath.sqrt(4*(b**2 - 3*a*c)**3 + (2*b**3 - 9*a*b*c + 27*a**2*d)**2))**(1/3)\n",
    "            root3 = -(b**2 - 3*a*c)/(3*a) - 1/4 * (1 - 3j * cmath.sqrt(3)) * (2*b**3 - 9*a*b*c + 27*a**2*d + cmath.sqrt(4*(b**2 - 3*a*c)**3 + (2*b**3 - 9*a*b*c + 27*a**2*d)**2))**(1/3)\n",
    "        else:\n",
    "            temp1 = cmath.sqrt((3*c/a - (b**2)/(a**2)) / 3)\n",
    "            temp2 = cmath.acos((9*a*b*c - 2*b**3 - 27*a**2*d) / (2 * (temp1**3)))\n",
    "            root1 = -2 * temp1 * cmath.cos(temp2/3) - b/(3*a)\n",
    "            root2 = -2 * temp1 * cmath.cos((temp2 + 2*np.pi)/3) - b/(3*a)\n",
    "            root3 = -2 * temp1 * cmath.cos((temp2 + 4*np.pi)/3) - b/(3*a)\n",
    "\n",
    "        # Print the roots\n",
    "        print(\"The roots of the quartic equation are: \", root1, root2, root3)\n",
    "    \n",
    "    else:\n",
    "        print(\"Invalid option selected!\")\n",
    "\n",
    "    # Ask user if they want to continue or end\n",
    "    another_calculation = input(\"Do you want to perform another calculation? (yes/no): \")\n",
    "    if another_calculation.lower() != 'yes':\n",
    "        break\n",
    "       \n"
   ]
  },
  {
   "cell_type": "code",
   "execution_count": null,
   "id": "7e9246a5-9fb0-47fe-86b9-1b4f123939af",
   "metadata": {},
   "outputs": [],
   "source": []
  },
  {
   "cell_type": "code",
   "execution_count": null,
   "id": "1dacf8e2-3798-4fed-8ca0-3e0a374b6c2d",
   "metadata": {},
   "outputs": [],
   "source": []
  }
 ],
 "metadata": {
  "kernelspec": {
   "display_name": "Python 3 (ipykernel)",
   "language": "python",
   "name": "python3"
  },
  "language_info": {
   "codemirror_mode": {
    "name": "ipython",
    "version": 3
   },
   "file_extension": ".py",
   "mimetype": "text/x-python",
   "name": "python",
   "nbconvert_exporter": "python",
   "pygments_lexer": "ipython3",
   "version": "3.11.7"
  }
 },
 "nbformat": 4,
 "nbformat_minor": 5
}
