{
 "cells": [
  {
   "cell_type": "code",
   "execution_count": 6,
   "id": "7c6ca1fc-a7d6-4cfb-bcc3-b0935bf409a1",
   "metadata": {},
   "outputs": [
    {
     "name": "stdin",
     "output_type": "stream",
     "text": [
      "Enter your name:  chinekwu\n",
      "Enter your jamb score:  245\n",
      "Did you score 5 credits in English, Mathematics,\n",
      "Chemistry, Physics and Biology?  yes\n",
      "Have you passed the interview:  yes\n"
     ]
    },
    {
     "name": "stdout",
     "output_type": "stream",
     "text": [
      "Sorry, you do not fit the requirements\n",
      "You have been admitted into Mass Communication!\n"
     ]
    }
   ],
   "source": [
    "admitted = []\n",
    "\n",
    "not_admitted = []\n",
    "\n",
    "name = input(\"Enter your name: \")\n",
    "score = float(input( \"Enter your jamb score: \"))\n",
    "credit = input(\"Did you score 5 credits in English, Mathematics,\\nChemistry, Physics and Biology? \")\n",
    "interview = input(\"Have you passed the interview: \")\n",
    "\n",
    "def admission(name, score, credit, interview):\n",
    "    if score >= 250 and credit != \"no\" and interview != \"no\" :\n",
    "        admitted.append({'name': name, 'score': score, 'credit': credit, 'interview': interview})\n",
    "        print(\"You have been admitted into Computer science!\")\n",
    "    \n",
    "    else:\n",
    "        not_admitted.append({'name': name, 'score': score, 'credit': credit, 'interview': interview})\n",
    "        print(\"Sorry, you do not fit the requirements for Computer Science\")\n",
    "    \n",
    "\n",
    "    if score >= 230 and credit != \"no\" and interview != \"no\" :\n",
    "        admitted.append({'name': name, 'score': score, 'credit': credit, 'interview': interview})      \n",
    "        print(\"You have been admitted into Mass Communication!\")\n",
    "    else:\n",
    "         not_admitted.append({'name': name, 'score': score, 'credit': credit, 'interview': interview})\n",
    "         print(\"Sorry, you do not fit the requirements for Mass Commmunication\")\n",
    "\n",
    "admission(name, score, credit, interview)"
   ]
  },
  {
   "cell_type": "code",
   "execution_count": null,
   "id": "b9e4659d-b2a2-479e-b2c7-cac841a584f6",
   "metadata": {},
   "outputs": [],
   "source": []
  }
 ],
 "metadata": {
  "kernelspec": {
   "display_name": "Python 3 (ipykernel)",
   "language": "python",
   "name": "python3"
  },
  "language_info": {
   "codemirror_mode": {
    "name": "ipython",
    "version": 3
   },
   "file_extension": ".py",
   "mimetype": "text/x-python",
   "name": "python",
   "nbconvert_exporter": "python",
   "pygments_lexer": "ipython3",
   "version": "3.11.7"
  }
 },
 "nbformat": 4,
 "nbformat_minor": 5
}
