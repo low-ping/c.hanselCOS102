{
 "cells": [
  {
   "cell_type": "code",
   "execution_count": 4,
   "id": "8c2aed05-8073-46a7-9d93-21ecb0c1458a",
   "metadata": {},
   "outputs": [
    {
     "name": "stdout",
     "output_type": "stream",
     "text": [
      "100\n",
      "Data Type of variable num is <class 'int'>\n"
     ]
    }
   ],
   "source": [
    "# Integer number\n",
    "num = 100\n",
    "print (num)\n",
    "print(\"Data Type of variable num is\", type(num)) "
   ]
  },
  {
   "cell_type": "code",
   "execution_count": 5,
   "id": "f3108a8e-f31e-4fab-9dcc-663e76803ebd",
   "metadata": {},
   "outputs": [
    {
     "name": "stdout",
     "output_type": "stream",
     "text": [
      "100\n",
      "Data type of variable fnum is <class 'float'>\n"
     ]
    }
   ],
   "source": [
    "# float number \n",
    "fnum = 34.54\n",
    "print (num)\n",
    "print (\"Data type of variable fnum is\", type (fnum))"
   ]
  },
  {
   "cell_type": "code",
   "execution_count": 6,
   "id": "2fd3f532-4514-4bf3-9059-d7be92a2ddc9",
   "metadata": {},
   "outputs": [
    {
     "name": "stdout",
     "output_type": "stream",
     "text": [
      "(3+4j)\n",
      "Data Type of variable cnum is <class 'complex'>\n"
     ]
    }
   ],
   "source": [
    "# complex number\n",
    "cnum = 3 + 4j\n",
    "print (cnum)\n",
    "print (\"Data Type of variable cnum is\", type (cnum))"
   ]
  },
  {
   "cell_type": "code",
   "execution_count": null,
   "id": "9c70b053-7512-4bb3-b77f-89e6cb08b91f",
   "metadata": {},
   "outputs": [],
   "source": []
  },
  {
   "cell_type": "code",
   "execution_count": null,
   "id": "d2eca811-cd1e-41ca-a757-84b7ba41aa87",
   "metadata": {},
   "outputs": [],
   "source": []
  }
 ],
 "metadata": {
  "kernelspec": {
   "display_name": "Python 3 (ipykernel)",
   "language": "python",
   "name": "python3"
  },
  "language_info": {
   "codemirror_mode": {
    "name": "ipython",
    "version": 3
   },
   "file_extension": ".py",
   "mimetype": "text/x-python",
   "name": "python",
   "nbconvert_exporter": "python",
   "pygments_lexer": "ipython3",
   "version": "3.11.7"
  }
 },
 "nbformat": 4,
 "nbformat_minor": 5
}
