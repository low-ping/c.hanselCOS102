{
 "cells": [
  {
   "cell_type": "markdown",
   "metadata": {},
   "source": [
    "# Python - PostgreSQL"
   ]
  },
  {
   "cell_type": "markdown",
   "metadata": {},
   "source": [
    "<ul><li>PostgreSQL can be integrated with Python using psycopg2 module.</li><li>psycopg2 is a PostgreSQL database adapter for the Python programming language.</li><li>psycopg2 was written with the aim of being very small and fast, and stable as a rock.</li><li> You do not need to install this module separately because it is shipped, by default, along with Python version 2.5.x onwards.</li></ul>"
   ]
  },
  {
   "cell_type": "markdown",
   "metadata": {},
   "source": [
    "# Python psycopg2 Module APIs\n",
    "\n",
    "If you do not have it installed on your machine then you can use the command to install it as follows:"
   ]
  },
  {
   "cell_type": "code",
   "execution_count": 1,
   "metadata": {},
   "outputs": [
    {
     "name": "stdout",
     "output_type": "stream",
     "text": [
      "Collecting psycopg2\n",
      "  Downloading psycopg2-2.9.9-cp312-cp312-win_amd64.whl.metadata (4.5 kB)\n",
      "Downloading psycopg2-2.9.9-cp312-cp312-win_amd64.whl (1.2 MB)\n",
      "   ---------------------------------------- 0.0/1.2 MB ? eta -:--:--\n",
      "   ---------------------------------------- 0.0/1.2 MB ? eta -:--:--\n",
      "   ---------------------------------------- 0.0/1.2 MB ? eta -:--:--\n",
      "    --------------------------------------- 0.0/1.2 MB 165.2 kB/s eta 0:00:07\n",
      "   - -------------------------------------- 0.0/1.2 MB 146.3 kB/s eta 0:00:08\n",
      "   - -------------------------------------- 0.0/1.2 MB 146.3 kB/s eta 0:00:08\n",
      "   - -------------------------------------- 0.0/1.2 MB 151.3 kB/s eta 0:00:08\n",
      "   -- ------------------------------------- 0.1/1.2 MB 270.5 kB/s eta 0:00:04\n",
      "   --- ------------------------------------ 0.1/1.2 MB 262.6 kB/s eta 0:00:05\n",
      "   ---- ----------------------------------- 0.1/1.2 MB 300.4 kB/s eta 0:00:04\n",
      "   ---- ----------------------------------- 0.1/1.2 MB 327.9 kB/s eta 0:00:04\n",
      "   ----- ---------------------------------- 0.2/1.2 MB 327.5 kB/s eta 0:00:04\n",
      "   -------- ------------------------------- 0.3/1.2 MB 477.2 kB/s eta 0:00:02\n",
      "   ----------- ---------------------------- 0.3/1.2 MB 597.8 kB/s eta 0:00:02\n",
      "   ------------ --------------------------- 0.4/1.2 MB 571.7 kB/s eta 0:00:02\n",
      "   -------------- ------------------------- 0.4/1.2 MB 624.4 kB/s eta 0:00:02\n",
      "   ----------------- ---------------------- 0.5/1.2 MB 699.2 kB/s eta 0:00:01\n",
      "   ----------------- ---------------------- 0.5/1.2 MB 699.2 kB/s eta 0:00:01\n",
      "   ----------------- ---------------------- 0.5/1.2 MB 669.3 kB/s eta 0:00:01\n",
      "   ------------------ --------------------- 0.5/1.2 MB 643.2 kB/s eta 0:00:01\n",
      "   ------------------- -------------------- 0.6/1.2 MB 620.3 kB/s eta 0:00:01\n",
      "   ------------------- -------------------- 0.6/1.2 MB 601.1 kB/s eta 0:00:01\n",
      "   -------------------- ------------------- 0.6/1.2 MB 573.4 kB/s eta 0:00:02\n",
      "   -------------------- ------------------- 0.6/1.2 MB 573.4 kB/s eta 0:00:02\n",
      "   -------------------- ------------------- 0.6/1.2 MB 573.4 kB/s eta 0:00:02\n",
      "   -------------------- ------------------- 0.6/1.2 MB 573.4 kB/s eta 0:00:02\n",
      "   -------------------- ------------------- 0.6/1.2 MB 573.4 kB/s eta 0:00:02\n",
      "   -------------------------------- ------- 0.9/1.2 MB 718.5 kB/s eta 0:00:01\n",
      "   --------------------------------- ------ 1.0/1.2 MB 741.5 kB/s eta 0:00:01\n",
      "   ------------------------------------ --- 1.1/1.2 MB 758.8 kB/s eta 0:00:01\n",
      "   ---------------------------------------  1.1/1.2 MB 773.8 kB/s eta 0:00:01\n",
      "   ---------------------------------------- 1.2/1.2 MB 769.0 kB/s eta 0:00:00\n",
      "Installing collected packages: psycopg2\n",
      "Successfully installed psycopg2-2.9.9\n",
      "Note: you may need to restart the kernel to use updated packages.\n"
     ]
    }
   ],
   "source": [
    "pip install psycopg2"
   ]
  },
  {
   "cell_type": "markdown",
   "metadata": {},
   "source": [
    "If the above command causes an error then use the command:"
   ]
  },
  {
   "cell_type": "code",
   "execution_count": 2,
   "metadata": {},
   "outputs": [
    {
     "name": "stdout",
     "output_type": "stream",
     "text": [
      "Collecting psycopg2-binary\n",
      "  Downloading psycopg2_binary-2.9.9-cp312-cp312-win_amd64.whl.metadata (4.6 kB)\n",
      "Downloading psycopg2_binary-2.9.9-cp312-cp312-win_amd64.whl (1.2 MB)\n",
      "   ---------------------------------------- 0.0/1.2 MB ? eta -:--:--\n",
      "   ---------------------------------------- 0.0/1.2 MB ? eta -:--:--\n",
      "    --------------------------------------- 0.0/1.2 MB ? eta -:--:--\n",
      "    --------------------------------------- 0.0/1.2 MB ? eta -:--:--\n",
      "    --------------------------------------- 0.0/1.2 MB ? eta -:--:--\n",
      "    --------------------------------------- 0.0/1.2 MB ? eta -:--:--\n",
      "    --------------------------------------- 0.0/1.2 MB ? eta -:--:--\n",
      "   - -------------------------------------- 0.1/1.2 MB 163.8 kB/s eta 0:00:07\n",
      "   -- ------------------------------------- 0.1/1.2 MB 196.9 kB/s eta 0:00:06\n",
      "   -- ------------------------------------- 0.1/1.2 MB 196.9 kB/s eta 0:00:06\n",
      "   -- ------------------------------------- 0.1/1.2 MB 176.6 kB/s eta 0:00:07\n",
      "   -- ------------------------------------- 0.1/1.2 MB 176.6 kB/s eta 0:00:07\n",
      "   ---- ----------------------------------- 0.1/1.2 MB 253.9 kB/s eta 0:00:05\n",
      "   ----- ---------------------------------- 0.2/1.2 MB 278.4 kB/s eta 0:00:04\n",
      "   ------- -------------------------------- 0.2/1.2 MB 346.2 kB/s eta 0:00:03\n",
      "   ------- -------------------------------- 0.2/1.2 MB 346.2 kB/s eta 0:00:03\n",
      "   --------- ------------------------------ 0.3/1.2 MB 372.6 kB/s eta 0:00:03\n",
      "   ---------- ----------------------------- 0.3/1.2 MB 418.5 kB/s eta 0:00:03\n",
      "   ------------ --------------------------- 0.4/1.2 MB 455.1 kB/s eta 0:00:02\n",
      "   ------------- -------------------------- 0.4/1.2 MB 488.2 kB/s eta 0:00:02\n",
      "   -------------- ------------------------- 0.4/1.2 MB 488.8 kB/s eta 0:00:02\n",
      "   -------------- ------------------------- 0.4/1.2 MB 488.8 kB/s eta 0:00:02\n",
      "   ---------------- ----------------------- 0.5/1.2 MB 494.3 kB/s eta 0:00:02\n",
      "   ------------------- -------------------- 0.6/1.2 MB 554.9 kB/s eta 0:00:02\n",
      "   ---------------------- ----------------- 0.7/1.2 MB 598.4 kB/s eta 0:00:01\n",
      "   ---------------------- ----------------- 0.7/1.2 MB 598.4 kB/s eta 0:00:01\n",
      "   ------------------------ --------------- 0.7/1.2 MB 594.1 kB/s eta 0:00:01\n",
      "   ------------------------ --------------- 0.7/1.2 MB 594.1 kB/s eta 0:00:01\n",
      "   ------------------------ --------------- 0.7/1.2 MB 594.1 kB/s eta 0:00:01\n",
      "   ------------------------ --------------- 0.7/1.2 MB 594.1 kB/s eta 0:00:01\n",
      "   ------------------------ --------------- 0.7/1.2 MB 594.1 kB/s eta 0:00:01\n",
      "   ------------------------ --------------- 0.7/1.2 MB 594.1 kB/s eta 0:00:01\n",
      "   ------------------------ --------------- 0.7/1.2 MB 594.1 kB/s eta 0:00:01\n",
      "   ------------------------ --------------- 0.7/1.2 MB 594.1 kB/s eta 0:00:01\n",
      "   ------------------------ --------------- 0.7/1.2 MB 594.1 kB/s eta 0:00:01\n",
      "   ------------------------ --------------- 0.7/1.2 MB 594.1 kB/s eta 0:00:01\n",
      "   ------------------------ --------------- 0.7/1.2 MB 594.1 kB/s eta 0:00:01\n",
      "   ------------------------ --------------- 0.7/1.2 MB 594.1 kB/s eta 0:00:01\n",
      "   ------------------------ --------------- 0.7/1.2 MB 594.1 kB/s eta 0:00:01\n",
      "   ------------------------ --------------- 0.7/1.2 MB 594.1 kB/s eta 0:00:01\n",
      "   ------------------------ --------------- 0.7/1.2 MB 594.1 kB/s eta 0:00:01\n",
      "   ------------------------ --------------- 0.7/1.2 MB 594.1 kB/s eta 0:00:01\n",
      "   ---------------------------------------- 1.2/1.2 MB 605.3 kB/s eta 0:00:00\n",
      "Installing collected packages: psycopg2-binary\n",
      "Successfully installed psycopg2-binary-2.9.9\n",
      "Note: you may need to restart the kernel to use updated packages.\n"
     ]
    }
   ],
   "source": [
    "pip install psycopg2-binary"
   ]
  },
  {
   "cell_type": "markdown",
   "metadata": {},
   "source": [
    "The following are important psycopg2 module routines:"
   ]
  },
  {
   "cell_type": "markdown",
   "metadata": {},
   "source": [
    "<table border=1 style=\"font-size:15px;\">\n",
    "    <tr>\n",
    "        <td width=200><b>APIs</b></td><td width=800><b>Description</b></td>\n",
    "    </tr>\n",
    "    <tr>\n",
    "        <td>psycopg2.connect()</td><td>This API opens a connection to the PostgreSQL database.</td>\n",
    "    </tr>\n",
    "     <tr>\n",
    "        <td>connection.cursor()</td><td>This routine creates a cursor which will be used throughout of your database programming with Python.</td>\n",
    "    </tr>\n",
    "    <tr>\n",
    "        <td>cursor.execute()</td><td>This routine executes an SQL statement. The SQL statement may be parameterized (i.e., placeholders instead of SQL literals).</td>\n",
    "    </tr>\n",
    "     <tr>\n",
    "        <td>connection.close()</td><td>DescriptionThis method closes the database connection.</td>\n",
    "    </tr>\n",
    "    <tr>\n",
    "        <td>cursor.fetchone()</td><td>This method fetches the next row of a query result set, returning a single sequence, or None when no more data is available.</td>\n",
    "    </tr>\n",
    "     <tr>\n",
    "        <td>cursor.fetchall()</td><td>This routine fetches all (remaining) rows of a query result, returning a list. An empty list is returned when no rows are available.</td>\n",
    "    </tr>\n",
    "    <tr>\n",
    "        <td>psycopg2.connect()</td><td>This API opens a connection to the PostgreSQL database.</td>\n",
    "    </tr>\n",
    "</table>"
   ]
  },
  {
   "cell_type": "markdown",
   "metadata": {},
   "source": [
    "# Connecting to a Database"
   ]
  },
  {
   "cell_type": "code",
   "execution_count": 8,
   "metadata": {},
   "outputs": [
    {
     "name": "stdout",
     "output_type": "stream",
     "text": [
      "Connection to PostgreSQL DB successful\n",
      "PostgreSQL database version: ('PostgreSQL 16.1, compiled by Visual C++ build 1937, 64-bit',)\n"
     ]
    }
   ],
   "source": [
    "import psycopg2\n",
    "\n",
    "# Database connection parameters\n",
    "host = \"localhost\"\n",
    "port = \"5534\"\n",
    "dbname = \"cos101_db\"\n",
    "user = \"postgres\"\n",
    "password = \"cos101\"\n",
    "\n",
    "# Establish the connection\n",
    "try:\n",
    "    connection = psycopg2.connect(\n",
    "        host=host,\n",
    "        port=port,\n",
    "        dbname=dbname,\n",
    "        user=user,\n",
    "        password=password\n",
    "    )\n",
    "    print(\"Connection to PostgreSQL DB successful\")\n",
    "\n",
    "    # Create a cursor object\n",
    "    cursor = connection.cursor()\n",
    "\n",
    "    # Execute a SQL query\n",
    "    cursor.execute(\"SELECT version();\")\n",
    "    \n",
    "    # Fetch and print the result of the query\n",
    "    db_version = cursor.fetchone()\n",
    "    print(f\"PostgreSQL database version: {db_version}\")\n",
    "\n",
    "    # Close the cursor and connection\n",
    "    cursor.close()\n",
    "    connection.close()\n",
    "\n",
    "except Exception as error:\n",
    "    print(f\"Error connecting to PostgreSQL DB: {error}\")\n"
   ]
  },
  {
   "cell_type": "markdown",
   "metadata": {},
   "source": [
    "# Selecting existing Database"
   ]
  },
  {
   "cell_type": "markdown",
   "metadata": {},
   "source": []
  },
  {
   "cell_type": "code",
   "execution_count": 9,
   "metadata": {},
   "outputs": [
    {
     "name": "stdout",
     "output_type": "stream",
     "text": [
      "Connection to PostgreSQL DB successful\n",
      "Error connecting to PostgreSQL DB: relation \"company\" does not exist\n",
      "LINE 1: SELECT  FROM company;\n",
      "                     ^\n",
      "\n"
     ]
    }
   ],
   "source": [
    "import psycopg2\n",
    "\n",
    "# Database connection parameters\n",
    "host = \"localhost\"\n",
    "port = \"5534\"\n",
    "dbname = \"cos101_db\"\n",
    "user = \"postgres\"\n",
    "password = \"cos101\"\n",
    "\n",
    "# Establish the connection\n",
    "try:\n",
    "    connection = psycopg2.connect(\n",
    "        host=host,\n",
    "        port=port,\n",
    "        dbname=dbname,\n",
    "        user=user,\n",
    "        password=password\n",
    "    )\n",
    "    print(\"Connection to PostgreSQL DB successful\")\n",
    "\n",
    "    # Create a cursor object\n",
    "    cursor = connection.cursor()\n",
    "\n",
    "    # Define the SQL SELECT query\n",
    "    select_query = \"SELECT FROM company;\"\n",
    "\n",
    "    # Execute the query\n",
    "    cursor.execute(select_query)\n",
    "\n",
    "    # Fetch all rows from the executed query\n",
    "    data = cursor.fetchall()\n",
    "\n",
    "    print(\"column\", \" | \", \"column2\")\n",
    "    print(\"------------------------\")\n",
    "        \n",
    "    # Iterate through the rows and print them\n",
    "    for row in data:\n",
    "        print(f\"{row[0]}       |  {row[1]}\")\n",
    "\n",
    "    # Close the cursor and connection\n",
    "    cursor.close()\n",
    "    connection.close()\n",
    "\n",
    "except Exception as error:\n",
    "    print(f\"Error connecting to PostgreSQL DB: {error}\")\n"
   ]
  },
  {
   "cell_type": "markdown",
   "metadata": {},
   "source": [
    "# Create a new Database"
   ]
  },
  {
   "cell_type": "code",
   "execution_count": 10,
   "metadata": {},
   "outputs": [
    {
     "name": "stdout",
     "output_type": "stream",
     "text": [
      "Connection to PostgreSQL server successful\n",
      "Database 'cos102_db' created successfully\n"
     ]
    }
   ],
   "source": [
    "import psycopg2\n",
    "from psycopg2 import sql\n",
    "\n",
    "# Database connection parameters\n",
    "host = \"localhost\"\n",
    "port = \"5534\"\n",
    "dbname = \"cos101_db\"\n",
    "user = \"postgres\"\n",
    "password = \"cos101\"\n",
    " # Connect to the default database\n",
    "\n",
    "# Name of the new database to be created\n",
    "new_dbname = \"cos102_db\"\n",
    "\n",
    "try:\n",
    "    # Connect to the PostgreSQL server\n",
    "    connection = psycopg2.connect(\n",
    "        host=host,\n",
    "        port=port,\n",
    "        dbname=dbname,\n",
    "        user=user,\n",
    "        password=password\n",
    "    )\n",
    "    connection.autocommit = True  # Enable autocommit mode\n",
    "    print(\"Connection to PostgreSQL server successful\")\n",
    "\n",
    "    # Create a cursor object\n",
    "    cursor = connection.cursor()\n",
    "\n",
    "    # Define the SQL statement to create a new database\n",
    "    create_db_query = sql.SQL(\"CREATE DATABASE {}\").format(sql.Identifier(new_dbname))\n",
    "\n",
    "    # Execute the SQL statement\n",
    "    cursor.execute(create_db_query)\n",
    "    print(f\"Database '{new_dbname}' created successfully\")\n",
    "\n",
    "    # Close the cursor and connection\n",
    "    cursor.close()\n",
    "    connection.close()\n",
    "\n",
    "except Exception as error:\n",
    "    print(f\"Error creating the database: {error}\")\n"
   ]
  },
  {
   "cell_type": "markdown",
   "metadata": {},
   "source": [
    "# Create a Table"
   ]
  },
  {
   "cell_type": "code",
   "execution_count": 20,
   "metadata": {},
   "outputs": [
    {
     "name": "stdout",
     "output_type": "stream",
     "text": [
      "Connection to PostgreSQL DB successful\n",
      "Table created successfully\n"
     ]
    }
   ],
   "source": [
    "import psycopg2\n",
    "\n",
    "# Database connection parameters\n",
    "host = \"localhost\"\n",
    "port = \"5534\"\n",
    "dbname = \"cos102_db\"\n",
    "user = \"postgres\"\n",
    "password = \"cos101\"\n",
    "\n",
    "try:\n",
    "    # Connect to the PostgreSQL database\n",
    "    connection = psycopg2.connect(\n",
    "        host=host,\n",
    "        port=port,\n",
    "        dbname=dbname,\n",
    "        user=user,\n",
    "        password=password\n",
    "    )\n",
    "    connection.autocommit = True  # Enable autocommit mode\n",
    "    \n",
    "    print(\"Connection to PostgreSQL DB successful\")\n",
    "\n",
    "    # Create a cursor object\n",
    "    cursor = connection.cursor()\n",
    "\n",
    "    # Define the SQL statement to create a new table\n",
    "    create_table_query = \"\"\"\n",
    "    CREATE TABLE sst_info (\n",
    "        id SERIAL PRIMARY KEY,\n",
    "        name VARCHAR(50) NOT NULL,\n",
    "        age INT NOT NULL,\n",
    "        department VARCHAR NOT NULL,\n",
    "        password VARCHAR NOT NULL\n",
    "      )\n",
    "    \"\"\"\n",
    "\n",
    "    # Execute the SQL statement\n",
    "    cursor.execute(create_table_query)\n",
    "    print(\"Table created successfully\")\n",
    "\n",
    "    # Close the cursor and connection\n",
    "    cursor.close()\n",
    "    connection.close()\n",
    "\n",
    "except Exception as error:\n",
    "    print(f\"Error creating table: {error}\")\n"
   ]
  },
  {
   "cell_type": "markdown",
   "metadata": {},
   "source": [
    "# INSERT into Table"
   ]
  },
  {
   "cell_type": "code",
   "execution_count": 25,
   "metadata": {},
   "outputs": [
    {
     "name": "stdout",
     "output_type": "stream",
     "text": [
      "Connection to PostgreSQL DB successful\n",
      "Data inserted successfully\n"
     ]
    }
   ],
   "source": [
    "import psycopg2\n",
    "\n",
    "# Database connection parameters\n",
    "host = \"localhost\"\n",
    "port = \"5534\"\n",
    "dbname = \"cos102_db\"\n",
    "user = \"postgres\"\n",
    "password = \"cos101\"\n",
    "\n",
    "try:\n",
    "    # Connect to the PostgreSQL database\n",
    "    connection = psycopg2.connect(\n",
    "        host=host,\n",
    "        port=port,\n",
    "        dbname=dbname,\n",
    "        user=user,\n",
    "        password=password\n",
    "    )\n",
    "    connection.autocommit = True  # Enable autocommit mode\n",
    "    print(\"Connection to PostgreSQL DB successful\")\n",
    "\n",
    "    # Create a cursor object\n",
    "    cursor = connection.cursor()\n",
    "\n",
    "    # Define the SQL INSERT statement\n",
    "    insert_query = \"\"\"\n",
    "    INSERT INTO sst_info (id, name, age, department, password)\n",
    "    VALUES (%s, %s, %s, %s,%s);\n",
    "    \"\"\"\n",
    "    \n",
    "    # Data to be inserted\n",
    "    data_to_insert = (2, \"Jamel Ojo\", 50, \"Software Engineering\", \"anthelo4\")\n",
    "\n",
    "    # Execute the SQL statement\n",
    "    cursor.execute(insert_query, data_to_insert)\n",
    "    print(\"Data inserted successfully\")\n",
    "\n",
    "    # Close the cursor and connection\n",
    "    cursor.close()\n",
    "    connection.close()\n",
    "\n",
    "except Exception as error:\n",
    "    print(f\"Error inserting data: {error}\")\n"
   ]
  },
  {
   "cell_type": "markdown",
   "metadata": {},
   "source": [
    "# SELECT from Table"
   ]
  },
  {
   "cell_type": "code",
   "execution_count": 31,
   "metadata": {},
   "outputs": [
    {
     "name": "stdout",
     "output_type": "stream",
     "text": [
      "()\n"
     ]
    }
   ],
   "source": [
    "import psycopg2\n",
    "\n",
    "# Define your database connection parameters\n",
    "db_params = {\n",
    "    'dbname': 'cos102_db',\n",
    "    'user': 'postgres',\n",
    "    'password': 'cos101',\n",
    "    'host': 'localhost',\n",
    "    'port': '5534'  # Default is '5432'\n",
    "}\n",
    "\n",
    "try:\n",
    "    # Establish a connection to the database\n",
    "    connection = psycopg2.connect(**db_params)\n",
    "\n",
    "    # Create a cursor object\n",
    "    cursor = connection.cursor()\n",
    "\n",
    "    # Define the SQL query\n",
    "    select_query = \"SELECT FROM sst_info WHERE age > 30\"\n",
    "\n",
    "    # Execute the SQL query\n",
    "    cursor.execute(select_query)\n",
    "\n",
    "    # Fetch all the results\n",
    "    result = cursor.fetchall()\n",
    "\n",
    "    # Print the results\n",
    "    for row in result:\n",
    "        print(row)\n",
    "\n",
    "except Exception as error:\n",
    "    print(f\"Error while connecting to PostgreSQL: {error}\")\n",
    "\n",
    "finally:\n",
    "    # Close the cursor and connection to clean up\n",
    "    if cursor:\n",
    "        cursor.close()\n",
    "    if connection:\n",
    "        connection.close()\n"
   ]
  },
  {
   "cell_type": "markdown",
   "metadata": {},
   "source": [
    "# Class Project I"
   ]
  },
  {
   "cell_type": "markdown",
   "metadata": {},
   "source": [
    "Paystack is a Nigerian financial technology company that offers payment processing services to businesses. As a technology company, Paystack solves payment problems for ambitious businesses. Its mission is to help businesses in Africa become profitable, envied, and loved. They make it easy for businesses to accept secure payments from multiple local and global payment channels. They also provide tools to help you retain and acquire new customers. Currently, Paystack is restructuring the team network. It is a diverse, close-knit team on an adventure to build something enduring while learning something new, every day. \n",
    "\n"
   ]
  },
  {
   "cell_type": "markdown",
   "metadata": {},
   "source": [
    "<img src=\"paystack.jpg\">"
   ]
  },
  {
   "cell_type": "markdown",
   "metadata": {},
   "source": [
    "With your knowledge in python programming develop an application that creates the database named <b>Paystack_Team</b>. <br>The purpose of the application is to enable management to perform the following queries:\n",
    "<ul>\n",
    "    <li>Team Members in Revenue Division</li>\n",
    "    <li>Team Members in Growth and Product Division whose age is greater than 30 years but less than 35 years</li>\n",
    "    <li>Team Members in Modules 1,3 and 5</li>\n",
    "    <li>Team Members in Modules 4 and Product Division</li>\n",
    "</ul>"
   ]
  },
  {
   "cell_type": "code",
   "execution_count": 33,
   "metadata": {},
   "outputs": [
    {
     "name": "stdout",
     "output_type": "stream",
     "text": [
      "Connection to PostgreSQL DB successful\n",
      "Paystack_Team table created successfully\n",
      "Data inserted successfully\n",
      "\n",
      "Query 1:\n",
      "Oyinda Aina\n",
      "Bolaji Akande\n",
      "Ijeoma Opara\n",
      "Dapo Awobokun\n",
      "Charles Idem\n",
      "\n",
      "Query 2:\n",
      "Seike Ibojo\n",
      "Emmanuel Quartey\n",
      "Awatt Bassey\n",
      "\n",
      "Query 3:\n",
      "Oyinda Aina\n",
      "Wale Eseyin\n",
      "Onyekachi Mbaike\n",
      "Opemipo Aikomo\n",
      "Ezra Olubi\n",
      "Stephen Amaza\n",
      "Ibrahim Lawal\n",
      "Fisayo Kolawole\n",
      "Awatt Bassey\n",
      "Bolaji Akande\n",
      "Ijeoma Opara\n",
      "Dipo Omobomi\n",
      "Dapo Awobokun\n",
      "Aminat Badara\n",
      "\n",
      "Query 4:\n",
      "Khadijah Abu\n",
      "Seike Ibojo\n",
      "Ezra Olubi\n",
      "Loknan Nanyak\n",
      "Mohini Ufeli\n",
      "King Makanjuola\n",
      "Dipo Omobomi\n",
      "Charles Idem\n",
      "Ayobami Alo\n"
     ]
    }
   ],
   "source": [
    "import psycopg2\n",
    "from psycopg2 import sql\n",
    "\n",
    "# Database connection parameters\n",
    "host = \"localhost\"\n",
    "port = \"5534\"\n",
    "dbname = \"cos101_db\"\n",
    "user = \"postgres\"\n",
    "password = \"cos101\"\n",
    "\n",
    "try:\n",
    "    # Connect to the PostgreSQL database\n",
    "    connection = psycopg2.connect(\n",
    "        host=host,\n",
    "        port=port,\n",
    "        dbname=dbname,\n",
    "        user=user,\n",
    "        password=password\n",
    "    )\n",
    "    connection.autocommit = True  # Enable autocommit mode\n",
    "    print(\"Connection to PostgreSQL DB successful\")\n",
    "\n",
    "    # Create a cursor object\n",
    "    cursor = connection.cursor()\n",
    "\n",
    "    # Create the Paystack_Team table\n",
    "    create_table_query = \"\"\"\n",
    "    CREATE TABLE Paystack_Team (\n",
    "        name VARCHAR(50),\n",
    "        division VARCHAR(20),\n",
    "        age INT,\n",
    "        module INT\n",
    "    );\n",
    "    \"\"\"\n",
    "    cursor.execute(create_table_query)\n",
    "    print(\"Paystack_Team table created successfully\")\n",
    "\n",
    "    # Insert data into the Paystack_Team table\n",
    "    team_data = [\n",
    "        (\"Oyinda Aina\", \"Revenue\", 32, 1),\n",
    "        (\"Wale Eseyin\", \"Engineer\", 28, 3),\n",
    "        (\"Khadijah Abu\", \"Product\", 30, 2),\n",
    "        (\"Onyekachi Mbaike\", \"Design\", 37, 5),\n",
    "        (\"Seike Ibojo\", \"Growth\", 33, 4),\n",
    "        (\"Opemipo Aikomo\", \"Design\", 28, 1),\n",
    "        (\"Ezra Olubi\", \"Product\", 30, 3),\n",
    "        (\"Alexander Fasoro\", \"Engineering\", 35, 2),\n",
    "        (\"Stephen Amaza\", \"Growth\", 40, 5),\n",
    "        (\"Loknan Nanyak\", \"Engineering\", 44, 4),\n",
    "        (\"Ibrahim Lawal\", \"Engineering\", 39, 5),\n",
    "        (\"Fisayo Kolawole\", \"Commercial\", 27, 1),\n",
    "        (\"Emmanuel Quartey\", \"Growth\", 31, 2),\n",
    "        (\"Awatt Bassey\", \"Growth\", 32, 3),\n",
    "        (\"Bolaji Akande\", \"Revenue\", 30, 1),\n",
    "        (\"Mohini Ufeli\", \"Growth\", 29, 4),\n",
    "        (\"King Makanjuola\", \"Product\", 31, 2),\n",
    "        (\"Ijeoma Opara\", \"Revenue\", 26, 5),\n",
    "        (\"Dipo Omobomi\", \"Product\", 32, 3),\n",
    "        (\"Dapo Awobokun\", \"Revenue\", 35, 1),\n",
    "        (\"Charles Idem\", \"Revenue\", 38, 4),\n",
    "        (\"Ayobami Alo\", \"Product\", 34, 2),\n",
    "        (\"Aminat Badara\", \"Growth\", 30, 5)\n",
    "    ]\n",
    "\n",
    "    insert_query = \"\"\"\n",
    "    INSERT INTO Paystack_Team (name, division, age, module)\n",
    "    VALUES (%s, %s, %s, %s);\n",
    "    \"\"\"\n",
    "    cursor.executemany(insert_query, team_data)\n",
    "    print(\"Data inserted successfully\")\n",
    "\n",
    "    # Perform queries\n",
    "    queries = [\n",
    "        \"SELECT name FROM Paystack_Team WHERE division = 'Revenue';\",\n",
    "        \"SELECT name FROM Paystack_Team WHERE division = 'Growth' AND age > 30 AND age < 35;\",\n",
    "        \"SELECT name FROM Paystack_Team WHERE module IN (1, 3, 5);\",\n",
    "        \"SELECT name FROM Paystack_Team WHERE module = 4 OR division = 'Product';\"\n",
    "    ]\n",
    "\n",
    "    for i, query in enumerate(queries, 1):\n",
    "        print(f\"\\nQuery {i}:\")\n",
    "        cursor.execute(query)\n",
    "        rows = cursor.fetchall()\n",
    "        for row in rows:\n",
    "            print(row[0])\n",
    "\n",
    "    # Close the cursor and connection\n",
    "    cursor.close()\n",
    "    connection.close()\n",
    "\n",
    "except Exception as error:\n",
    "    print(f\"Error: {error}\")\n"
   ]
  }
 ],
 "metadata": {
  "kernelspec": {
   "display_name": "Python 3",
   "language": "python",
   "name": "python3"
  },
  "language_info": {
   "codemirror_mode": {
    "name": "ipython",
    "version": 3
   },
   "file_extension": ".py",
   "mimetype": "text/x-python",
   "name": "python",
   "nbconvert_exporter": "python",
   "pygments_lexer": "ipython3",
   "version": "3.12.2"
  }
 },
 "nbformat": 4,
 "nbformat_minor": 4
}
