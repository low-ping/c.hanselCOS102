{
 "cells": [
  {
   "cell_type": "code",
   "execution_count": null,
   "id": "6e392691-132c-4974-be4a-9dc66280e45e",
   "metadata": {},
   "outputs": [],
   "source": [
    "# Python program to swap two cities\n",
    "\n",
    "# TO take inputs from the user\n",
    "city_1= input('Enter name of city 1:')\n",
    "city_2= input('Enter name of city 2:')\n",
    "\n",
    "# create a temporary vairable and swap the cities\n",
    "temp= city_1\n",
    "city_1 = city_2\n",
    "city_2 = temp\n",
    "\n",
    "print(f\"The name of  the city 1 after swapping is {city_1}\")\n",
    "print(f\"The name of  the city 2 after swapping is {city_2}\")\n"
   ]
  },
  {
   "cell_type": "code",
   "execution_count": null,
   "id": "d2414886-cd14-4a5c-9ca5-632c512377a7",
   "metadata": {},
   "outputs": [],
   "source": [
    "# Program to check if a number is Positive, Negative or 0\n",
    "\n",
    "num= float(input(\"Enter a number: \"))\n",
    "if num > 0:\n",
    "    print(\"positive interger\")\n",
    "elif num== 0:\n",
    "    print(\"Zero\")\n",
    "else:\n",
    "    print(\"Negative number\")"
   ]
  },
  {
   "cell_type": "code",
   "execution_count": null,
   "id": "a2fcad11-82c1-44a3-a421-4e96c90128aa",
   "metadata": {},
   "outputs": [],
   "source": [
    "# COUPE DE ESCRIVA 2023: FOOTBALL PICKS\n",
    "\n",
    "print(\"Welcome to the COUPE DE ESCRIVA 2023 : FOOTBALL PICKS/n\")\n",
    "\n",
    "captain = {'Madiba: ': 'chubby obiora-okafor',\n",
    "           {'Blue-jays: ': 'christopher uweh',\n",
    "            {'Cirok: ': 'alexander',\n",
    "             {'TSG Walkers: ': 'ikechukwu',}\n",
    "goalkeepers={{'Madiba: ': 'chubby obiora-okafor',\n",
    "           {'Blue-jays: ': 'jeffery awagu',\n",
    "            {'Cirok: ': 'micheal jackson',\n",
    "             {'TSG Walkers: ': 'spiderman',}\n",
    "\n",
    "for pick in captain\n",
    "             print(pick,captain[pick])\n",
    "\n",
    "print(\"/n\")\n",
    "\n",
    "for pick in goalkeepers:\n",
    "             print(pick,goalkeepers[pick])\n",
    "              \n",
    "              \n",
    "           "
   ]
  }
 ],
 "metadata": {
  "kernelspec": {
   "display_name": "Python 3 (ipykernel)",
   "language": "python",
   "name": "python3"
  },
  "language_info": {
   "codemirror_mode": {
    "name": "ipython",
    "version": 3
   },
   "file_extension": ".py",
   "mimetype": "text/x-python",
   "name": "python",
   "nbconvert_exporter": "python",
   "pygments_lexer": "ipython3",
   "version": "3.11.7"
  }
 },
 "nbformat": 4,
 "nbformat_minor": 5
}
